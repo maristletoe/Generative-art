{
 "cells": [
  {
   "cell_type": "code",
   "execution_count": null,
   "id": "4f4c19be",
   "metadata": {},
   "outputs": [],
   "source": [
    "import turtle\n"
   ]
  },
  {
   "cell_type": "code",
   "execution_count": null,
   "id": "f540a115",
   "metadata": {},
   "outputs": [],
   "source": [
    "MINIMUM_BRANCH_LENGTH = 5"
   ]
  },
  {
   "cell_type": "code",
   "execution_count": null,
   "id": "b221ba52",
   "metadata": {},
   "outputs": [],
   "source": [
    "\n",
    "def build_tree(t, branch_length, shorten_by, angle):\n",
    "    if branch_length > MINIMUM_BRANCH_LENGTH:\n",
    "        t.forward(branch_length)\n",
    "        new_length = branch_length - shorten_by\n",
    "        \n",
    "        t.left(angle)\n",
    "        build_tree(t, new_length, shorten_by, angle)\n",
    "        \n",
    "        t.right(angle * 2)\n",
    "        build_tree(t, new_length, shorten_by, angle)\n",
    "        \n",
    "        t.left(angle)\n",
    "        t.backward(branch_length)\n",
    "        \n",
    "tree = turtle.Turtle()\n",
    "tree.hideturtle()\n",
    "tree.setheading(90)\n",
    "tree.color('green')\n",
    "\n",
    "build_tree(tree, 50, 5, 30)\n",
    "turtle.speed(0)\n",
    "turtle.mainloop()"
   ]
  },
  {
   "cell_type": "code",
   "execution_count": null,
   "id": "f14b18d6",
   "metadata": {},
   "outputs": [],
   "source": [
    "def koch_curve(t, iterations, length, shortening_factor, angle):\n",
    "  if iterations == 0:\n",
    "    t.forward(length)\n",
    "    \n",
    "  else:\n",
    "    \n",
    "    iterations = iterations - 1\n",
    "    length = length / shortening_factor\n",
    "    \n",
    "    koch_curve(t, iterations, length, shortening_factor, angle)\n",
    "    t.left(angle)\n",
    "    koch_curve(t, iterations, length, shortening_factor, angle)\n",
    "    t.right(angle * 2)\n",
    "    koch_curve(t, iterations, length, shortening_factor, angle)\n",
    "    t.left(angle)\n",
    "    koch_curve(t, iterations, length, shortening_factor, angle)\n",
    "    \n",
    "t = turtle.Turtle()\n",
    "t.hideturtle()\n",
    "\n",
    "for i in range(3):\n",
    "  koch_curve(t, 8, 300, 3, 60)\n",
    "  t.right(120)\n",
    "\n",
    "turtle.speed(10)\n",
    "turtle.mainloop()"
   ]
  },
  {
   "cell_type": "code",
   "execution_count": null,
   "id": "d43c17c8",
   "metadata": {},
   "outputs": [],
   "source": [
    "def turn(i):\n",
    "    left = (((i & -i) << 1) & i) != 0\n",
    "    return 'L' if left else 'R'\n",
    "\n",
    "def curve(iteration):\n",
    "    return ''.join([turn(i + 1) for i in range(2 ** iteration - 1)])\n",
    "\n",
    "if __name__ == '__main__':\n",
    "    turtle.speed(0)\n",
    "    turtle.showturtle()\n",
    "    turtle.hideturtle()\n",
    "    turtle.speed(0)\n",
    "    i = 1\n",
    "    while True:\n",
    "        if turn(i) == 'L':\n",
    "            turtle.circle(-4, 90, 36)\n",
    "        else:\n",
    "            turtle.circle(4, 90, 36)\n",
    "        i += 1"
   ]
  },
  {
   "cell_type": "code",
   "execution_count": null,
   "id": "03465a89",
   "metadata": {},
   "outputs": [],
   "source": []
  }
 ],
 "metadata": {
  "kernelspec": {
   "display_name": "Python 3",
   "language": "python",
   "name": "python3"
  },
  "language_info": {
   "codemirror_mode": {
    "name": "ipython",
    "version": 3
   },
   "file_extension": ".py",
   "mimetype": "text/x-python",
   "name": "python",
   "nbconvert_exporter": "python",
   "pygments_lexer": "ipython3",
   "version": "3.8.8"
  }
 },
 "nbformat": 4,
 "nbformat_minor": 5
}
